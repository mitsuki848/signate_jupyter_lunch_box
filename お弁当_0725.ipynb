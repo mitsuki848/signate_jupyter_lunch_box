{
 "cells": [
  {
   "cell_type": "code",
   "execution_count": null,
   "id": "ba8d57aa",
   "metadata": {},
   "outputs": [],
   "source": [
    "import pandas as pd\n",
    "import numpy as np\n",
    "from matplotlib import pyplot as plt\n",
    "import seaborn as sns\n",
    "sns.set(font=\"IPAexGothic\",style=\"white\")"
   ]
  },
  {
   "cell_type": "code",
   "execution_count": null,
   "id": "f08b5687",
   "metadata": {},
   "outputs": [],
   "source": [
    "train = pd.read_csv(\"./train.csv\")\n",
    "test = pd.read_csv(\"./test.csv\")\n",
    "sample = pd.read_csv(\"./sample.csv\",header=None)\n",
    "print(\"Data Shapes\")\n",
    "print(\"Train:\",train.shape, \"Test:\",test.shape, \"Sample:\",sample.shape)"
   ]
  },
  {
   "cell_type": "code",
   "execution_count": null,
   "id": "4f982633",
   "metadata": {},
   "outputs": [],
   "source": [
    "train.index = pd.to_datetime(train[\"datetime\"])\n",
    "train.head()"
   ]
  },
  {
   "cell_type": "code",
   "execution_count": null,
   "id": "a4bf8563",
   "metadata": {},
   "outputs": [],
   "source": [
    "train.describe()"
   ]
  },
  {
   "cell_type": "code",
   "execution_count": null,
   "id": "2ab78d87",
   "metadata": {},
   "outputs": [],
   "source": [
    "train.describe(include=\"O\")"
   ]
  },
  {
   "cell_type": "code",
   "execution_count": null,
   "id": "359be6fa",
   "metadata": {},
   "outputs": [],
   "source": [
    "train[\"payday\"] = train[\"payday\"].fillna(0)\n",
    "train[\"precipitation\"] = train[\"precipitation\"].apply(lambda x : -1 if x == \"--\" else float(x))\n",
    "train[\"event\"] = train[\"event\"].fillna(\"なし\")\n",
    "train[\"remarks\"] = train[\"remarks\"].fillna(\"なし\")\n",
    "train[\"month\"] = train[\"datetime\"].apply(lambda x : int(x.split(\"-\")[1]))"
   ]
  },
  {
   "cell_type": "code",
   "execution_count": null,
   "id": "c8840316",
   "metadata": {},
   "outputs": [],
   "source": [
    "train[\"y\"].plot(figsize=(15,4))"
   ]
  },
  {
   "cell_type": "code",
   "execution_count": null,
   "id": "3aed76c1",
   "metadata": {},
   "outputs": [],
   "source": [
    "fig, ax = plt.subplots(2,3,figsize=(9,6))\n",
    "train.plot.scatter(x=\"soldout\", y=\"y\", ax=ax[0][0])\n",
    "train.plot.scatter(x=\"kcal\", y=\"y\", ax=ax[0][1])\n",
    "train.plot.scatter(x=\"precipitation\", y=\"y\", ax=ax[0][2])\n",
    "train.plot.scatter(x=\"payday\", y=\"y\", ax=ax[1][0])\n",
    "train.plot.scatter(x=\"temperature\", y=\"y\", ax=ax[1][1])\n",
    "train.plot.scatter(x=\"month\", y=\"y\", ax=ax[1][2])\n",
    "plt.tight_layout()"
   ]
  },
  {
   "cell_type": "code",
   "execution_count": null,
   "id": "d9b6e63d",
   "metadata": {},
   "outputs": [],
   "source": [
    "fig, ax = plt.subplots(2,2,figsize=(12,7))\n",
    "sns.boxplot(x=\"week\",y=\"y\",data=train,ax=ax[0][0])\n",
    "sns.boxplot(x=\"weather\",y=\"y\",data=train,ax=ax[0][1])\n",
    "sns.boxplot(x=\"remarks\",y=\"y\",data=train,ax=ax[1][0])\n",
    "ax[1][0].set_xticklabels(ax[1][0].get_xticklabels(),rotation=30)\n",
    "sns.boxplot(x=\"event\",y=\"y\",data=train,ax=ax[1][1])\n",
    "plt.tight_layout()"
   ]
  },
  {
   "cell_type": "code",
   "execution_count": null,
   "id": "736ef0f9",
   "metadata": {},
   "outputs": [],
   "source": [
    "train[train[\"remarks\"]!=\"お楽しみメニュー\"][\"y\"].plot(figsize=(15,4))"
   ]
  },
  {
   "cell_type": "code",
   "execution_count": null,
   "id": "2d282f24",
   "metadata": {},
   "outputs": [],
   "source": [
    "train[\"fun\"] = train[\"remarks\"].apply(lambda x: 1 if x==\"お楽しみメニュー\" else 0)\n",
    "sns.boxplot(x=\"fun\",y=\"y\",data=train)"
   ]
  },
  {
   "cell_type": "code",
   "execution_count": null,
   "id": "232794f2",
   "metadata": {},
   "outputs": [],
   "source": [
    "from scipy.stats import median_test\n",
    "stat,p,med,tbl = median_test(train[train[\"fun\"]==1][\"y\"],train[train[\"fun\"]==0][\"y\"])\n",
    "print(\"p\",p,\"stat\",stat)"
   ]
  },
  {
   "cell_type": "code",
   "execution_count": null,
   "id": "7fa5e4e6",
   "metadata": {},
   "outputs": [],
   "source": [
    "train[train[\"remarks\"]==\"お楽しみメニュー\"][\"y\"].plot(figsize=(15,4))"
   ]
  },
  {
   "cell_type": "code",
   "execution_count": null,
   "id": "d7788c43",
   "metadata": {},
   "outputs": [],
   "source": [
    "train[train[\"remarks\"]==\"お楽しみメニュー\"]"
   ]
  },
  {
   "cell_type": "code",
   "execution_count": null,
   "id": "359c3739",
   "metadata": {},
   "outputs": [],
   "source": [
    "train[\"curry\"] = train[\"name\"].apply(lambda x : 1 if x.find(\"カレー\")>=0 else 0)\n",
    "sns.boxplot(x=\"curry\",y=\"y\",data=train)"
   ]
  },
  {
   "cell_type": "code",
   "execution_count": null,
   "id": "9ba49ece",
   "metadata": {},
   "outputs": [],
   "source": [
    "stat,p,med,tbl = median_test(train[train[\"curry\"]==1][\"y\"],train[train[\"curry\"]==0][\"y\"])\n",
    "print(\"p:\",p,\"stat\",stat)"
   ]
  },
  {
   "cell_type": "code",
   "execution_count": null,
   "id": "e5c66478",
   "metadata": {},
   "outputs": [],
   "source": [
    "train = pd.read_csv(\"./train.csv\")\n",
    "test = pd.read_csv(\"./test.csv\")\n",
    "sample = pd.read_csv(\"./sample.csv\",header=None)"
   ]
  },
  {
   "cell_type": "code",
   "execution_count": null,
   "id": "c721c006",
   "metadata": {},
   "outputs": [],
   "source": [
    "train[\"t\"] = 1\n",
    "test[\"t\"] = 0\n",
    "dat = pd.concat([train,test],sort=True).reset_index(drop=True)"
   ]
  },
  {
   "cell_type": "code",
   "execution_count": null,
   "id": "c58fcdb9",
   "metadata": {},
   "outputs": [],
   "source": [
    "dat.index = pd.to_datetime(dat[\"datetime\"])\n",
    "dat = dat[\"2014-05-01\":]\n",
    "dat = dat.reset_index(drop=True)\n",
    "\n",
    "dat[\"days\"] = dat.index\n",
    "dat[\"precipitation\"] = dat[\"precipitation\"].apply(lambda x : -1 if x==\"--\" else x).astype(np.float)\n",
    "dat[\"fun\"] = dat[\"remarks\"].apply(lambda x: 1 if x==\"お楽しみメニュー\" else 0)\n",
    "dat[\"curry\"] = dat[\"name\"].apply(lambda x : 1 if x.find(\"カレー\")>=0 else 0)\n",
    "\n",
    "cols = [\"precipitation\",\"weather\",\"days\",\"fun\",\"curry\",\"y\"]"
   ]
  },
  {
   "cell_type": "code",
   "execution_count": null,
   "id": "e3ba5380",
   "metadata": {},
   "outputs": [],
   "source": [
    "from sklearn.model_selection import KFold\n",
    "from sklearn.metrics import mean_squared_error as MSE\n",
    "from sklearn.linear_model import LinearRegression as LR\n",
    "from sklearn.ensemble import RandomForestRegressor as RF"
   ]
  },
  {
   "cell_type": "code",
   "execution_count": null,
   "id": "7155066e",
   "metadata": {},
   "outputs": [],
   "source": [
    "def learning(trainX,y_train):\n",
    "    model1 = LR()\n",
    "    model2 = RF(n_estimators=100,max_depth=4,random_state=777)\n",
    "    model1.fit(trainX[\"days\"].values.reshape(-1,1),y_train)\n",
    "    pred = model1.predict(trainX[\"days\"].values.reshape(-1,1))\n",
    "    \n",
    "    pred_sub = y_train - pred\n",
    "    model2.fit(trainX.iloc[:, ~trainX.columns.str.match(\"y\")],pred_sub)\n",
    "    return model1, model2"
   ]
  },
  {
   "cell_type": "code",
   "execution_count": null,
   "id": "c3426e6e",
   "metadata": {},
   "outputs": [],
   "source": [
    "kf = KFold(n_splits=5,random_state=777, shuffle=True)\n",
    "tr = dat[dat[\"t\"]==1][cols]\n",
    "\n",
    "trains = []\n",
    "tests = []\n",
    "for train_index, test_index in kf.split(tr):\n",
    "    tr.loc[train_index,\"tt\"] = 1\n",
    "    tr.loc[test_index,\"tt\"] = 0\n",
    "    tr[\"tt\"] = tr[\"tt\"].astype(np.int)\n",
    "    tmp = pd.get_dummies(tr)\n",
    "    \n",
    "    trainX = tmp[tmp[\"tt\"]==1]\n",
    "    del trainX[\"tt\"]\n",
    "    testX = tmp[tmp[\"tt\"]==0]\n",
    "    del testX[\"tt\"]\n",
    "    y_train = tmp[tmp[\"tt\"]==1][\"y\"]\n",
    "    y_test = tmp[tmp[\"tt\"]==0][\"y\"]\n",
    "    \n",
    "    model1, model2 = learning(trainX, y_train)\n",
    "    \n",
    "    pred_train = model1.predict(trainX[\"days\"].values.reshape(-1,1)) + model2.predict(trainX.iloc[:, ~trainX.columns.str.match(\"y\")])\n",
    "    pred_test = model1.predict(testX[\"days\"].values.reshape(-1,1)) + model2.predict(testX.iloc[:, ~testX.columns.str.match(\"y\")])\n",
    "    \n",
    "    print(\"TRAIN:\",MSE(y_train,pred_train)**0.5, \"VARIDATE\",MSE(y_test, pred_test)**0.5)\n",
    "    trains.append(MSE(y_train,pred_train)**0.5)\n",
    "    tests.append(MSE(y_test, pred_test)**0.5)\n",
    "print(\"AVG\")\n",
    "print(np.array(trains).mean(), np.array(tests).mean())"
   ]
  },
  {
   "cell_type": "code",
   "execution_count": null,
   "id": "12325013",
   "metadata": {},
   "outputs": [],
   "source": [
    "cols = [\"precipitation\",\"weather\",\"days\",\"fun\",\"curry\",\"y\",\"t\"]\n",
    "tmp = pd.get_dummies(dat[cols])\n",
    "trainX = tmp[tmp[\"t\"]==1]\n",
    "del trainX[\"t\"]\n",
    "testX = tmp[tmp[\"t\"]==0]\n",
    "del testX[\"t\"]\n",
    "y_train = tmp[tmp[\"t\"]==1][\"y\"]\n",
    "y_test = tmp[tmp[\"t\"]==0][\"y\"]"
   ]
  },
  {
   "cell_type": "code",
   "execution_count": null,
   "id": "4d8c3796",
   "metadata": {},
   "outputs": [],
   "source": [
    "model1, model2 = learning(trainX,y_train)\n",
    "pred = model1.predict(trainX[\"days\"].values.reshape(-1,1)) + model2.predict(trainX.iloc[:,~trainX.columns.str.match(\"y\")])\n",
    "\n",
    "p = pd.DataFrame({\"actual\":y_train,\"pred\":pred})\n",
    "p.plot(figsize=(15,4))\n",
    "print(\"RMSE\",MSE(y_train,pred)**0.5)"
   ]
  },
  {
   "cell_type": "code",
   "execution_count": null,
   "id": "5f4e21a7",
   "metadata": {},
   "outputs": [],
   "source": [
    "model1, model2 = learning(trainX,y_train)\n",
    "pred = model1.predict(testX[\"days\"].values.reshape(-1,1)) + model2.predict(testX.iloc[:,~testX.columns.str.match(\"y\")])\n",
    "plt.figure(figsize=(15,4))\n",
    "plt.plot(pred)"
   ]
  },
  {
   "cell_type": "code",
   "execution_count": null,
   "id": "d5beb55a",
   "metadata": {},
   "outputs": [],
   "source": [
    "sample[1] = pred\n",
    "sample.to_csv(\"submit01.csv\",index=None,header=None)"
   ]
  },
  {
   "cell_type": "code",
   "execution_count": null,
   "id": "1a367466",
   "metadata": {},
   "outputs": [],
   "source": []
  }
 ],
 "metadata": {
  "kernelspec": {
   "display_name": ".hoge1",
   "language": "python",
   "name": ".hoge1"
  },
  "language_info": {
   "codemirror_mode": {
    "name": "ipython",
    "version": 3
   },
   "file_extension": ".py",
   "mimetype": "text/x-python",
   "name": "python",
   "nbconvert_exporter": "python",
   "pygments_lexer": "ipython3",
   "version": "3.10.7"
  }
 },
 "nbformat": 4,
 "nbformat_minor": 5
}
